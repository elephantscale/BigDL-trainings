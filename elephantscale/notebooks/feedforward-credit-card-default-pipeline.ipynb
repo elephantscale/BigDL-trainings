{
 "cells": [
  {
   "cell_type": "markdown",
   "metadata": {},
   "source": [
    "# Feedforward Network with Credit Card Default\n",
    "\n",
    "Let us look at a BigDL example with Credit Card Default.  We will train a simple, feedforward neural network with "
   ]
  },
  {
   "cell_type": "code",
   "execution_count": null,
   "metadata": {},
   "outputs": [],
   "source": []
  },
  {
   "cell_type": "code",
   "execution_count": 2,
   "metadata": {},
   "outputs": [],
   "source": [
    "%matplotlib inline\n",
    "import pandas as pd\n",
    "import datetime as dt\n",
    "import matplotlib.pyplot as plt\n",
    "import numpy as np\n",
    "from sklearn.metrics import confusion_matrix\n",
    "from sklearn.metrics import accuracy_score\n",
    "import seaborn as sn\n",
    "import pandas as pd\n",
    "import random as rd\n",
    "import datetime as dt\n",
    "\n",
    "\n",
    "from bigdl.dataset.transformer import *\n",
    "from bigdl.dataset.base import *\n",
    "from bigdl.nn.layer import *\n",
    "from bigdl.nn.criterion import *\n",
    "from bigdl.optim.optimizer import *\n",
    "from bigdl.util.common import *\n",
    "from utils import *\n",
    "from bigdl.models.ml_pipeline.dl_classifier import *\n",
    "\n",
    "\n",
    "from pyspark.sql.types import DoubleType\n",
    "from pyspark.sql.functions import col, udf\n",
    "from pyspark.ml import  Pipeline\n",
    "from pyspark.ml.feature import VectorAssembler, StandardScaler\n",
    "from pyspark.ml.evaluation import BinaryClassificationEvaluator, MulticlassClassificationEvaluator\n",
    "\n",
    "\n",
    "\n",
    "\n",
    "init_engine()"
   ]
  },
  {
   "cell_type": "code",
   "execution_count": 3,
   "metadata": {},
   "outputs": [],
   "source": [
    "learning_rate = 0.1\n",
    "training_epochs = 20\n",
    "batch_size = 1024\n",
    "display_step = 1\n",
    "\n",
    "# Network Parameters\n",
    "n_input = 5\n",
    "n_classes = 2\n",
    "n_hidden_1 = 3 # 1st layer number of features\n",
    "n_hidden_2 = 2 # 1st layer number of features\n",
    "\n",
    "\n",
    "\n",
    "filename =  \"../data/cc-default/default-simple.csv\"\n",
    "\n",
    "LABELS = [\"Good\", \"Default\"] "
   ]
  },
  {
   "cell_type": "code",
   "execution_count": 4,
   "metadata": {},
   "outputs": [
    {
     "name": "stdout",
     "output_type": "stream",
     "text": [
      "Hidden layer 1 (Guess) : 2.59002006411\n",
      "Hidden layer 2 (Guess) : 2.2360679775\n"
     ]
    }
   ],
   "source": [
    "# Number of hidden layers\n",
    "\n",
    "n_hidden_guess = np.sqrt(np.sqrt((n_classes + 2) * n_input) + 2 * np.sqrt(n_input /(n_classes+2.)))\n",
    "print(\"Hidden layer 1 (Guess) : \" + str(n_hidden_guess))\n",
    "\n",
    "n_hidden_guess_2 = n_classes * np.sqrt(n_input / (n_classes + 2.))\n",
    "print(\"Hidden layer 2 (Guess) : \" + str(n_hidden_guess_2))"
   ]
  },
  {
   "cell_type": "code",
   "execution_count": 5,
   "metadata": {},
   "outputs": [],
   "source": [
    "cc_training = spark.read.csv(filename, header=True, inferSchema=\"true\", mode=\"DROPMALFORMED\")\n",
    "cc_training = cc_training.withColumn('label', cc_training.default.cast(\"double\"))"
   ]
  },
  {
   "cell_type": "code",
   "execution_count": 6,
   "metadata": {},
   "outputs": [
    {
     "name": "stdout",
     "output_type": "stream",
     "text": [
      "+---+-------+---+---------+--------+---+-------+-----+\n",
      "| id|balance|sex|education|marriage|age|default|label|\n",
      "+---+-------+---+---------+--------+---+-------+-----+\n",
      "|  1|  20000|  2|        2|       1| 24|      2|  2.0|\n",
      "|  2| 120000|  2|        2|       2| 26|      2|  2.0|\n",
      "|  3|  90000|  2|        2|       2| 34|      1|  1.0|\n",
      "|  4|  50000|  2|        2|       1| 37|      1|  1.0|\n",
      "|  5|  50000|  1|        2|       1| 57|      1|  1.0|\n",
      "|  6|  50000|  1|        1|       2| 37|      1|  1.0|\n",
      "|  7| 500000|  1|        1|       2| 29|      1|  1.0|\n",
      "|  8| 100000|  2|        2|       2| 23|      1|  1.0|\n",
      "|  9| 140000|  2|        3|       1| 28|      1|  1.0|\n",
      "| 10|  20000|  1|        3|       2| 35|      1|  1.0|\n",
      "| 11| 200000|  2|        3|       2| 34|      1|  1.0|\n",
      "| 12| 260000|  2|        1|       2| 51|      1|  1.0|\n",
      "| 13| 630000|  2|        2|       2| 41|      1|  1.0|\n",
      "| 14|  70000|  1|        2|       2| 30|      2|  2.0|\n",
      "| 15| 250000|  1|        1|       2| 29|      1|  1.0|\n",
      "| 16|  50000|  2|        3|       3| 23|      1|  1.0|\n",
      "| 17|  20000|  1|        1|       2| 24|      2|  2.0|\n",
      "| 18| 320000|  1|        1|       1| 49|      1|  1.0|\n",
      "| 19| 360000|  2|        1|       1| 49|      1|  1.0|\n",
      "| 20| 180000|  2|        1|       2| 29|      1|  1.0|\n",
      "+---+-------+---+---------+--------+---+-------+-----+\n",
      "only showing top 20 rows\n",
      "\n"
     ]
    }
   ],
   "source": [
    "cc_training.show()"
   ]
  },
  {
   "cell_type": "code",
   "execution_count": 7,
   "metadata": {
    "scrolled": false
   },
   "outputs": [
    {
     "name": "stdout",
     "output_type": "stream",
     "text": [
      "+-------+------------------+------------------+------------------+------------------+-----------------+------------------+\n",
      "|summary|           balance|               sex|         education|          marriage|              age|           default|\n",
      "+-------+------------------+------------------+------------------+------------------+-----------------+------------------+\n",
      "|  count|             30000|             30000|             30000|             30000|            30000|             30000|\n",
      "|   mean|167484.32266666667|1.6037333333333332|1.8531333333333333|1.5518666666666667|          35.4855|            1.2212|\n",
      "| stddev|129747.66156720246|0.4891291960902602|0.7903486597207269|0.5219696006132467|9.217904068090155|0.4150618056909329|\n",
      "|    min|             10000|                 1|                 0|                 0|               21|                 1|\n",
      "|    max|           1000000|                 2|                 6|                 3|               79|                 2|\n",
      "+-------+------------------+------------------+------------------+------------------+-----------------+------------------+\n",
      "\n"
     ]
    }
   ],
   "source": [
    "cc_training.select('balance','sex','education','marriage','age','default').describe().show()"
   ]
  },
  {
   "cell_type": "code",
   "execution_count": 8,
   "metadata": {},
   "outputs": [
    {
     "data": {
      "image/png": "[encoded data removed]",
      "text/plain": [
       "<matplotlib.figure.Figure at 0x7f6b60288dd0>"
      ]
     },
     "metadata": {},
     "output_type": "display_data"
    }
   ],
   "source": [
    "#count_classes = pd.value_counts(df['Class'], sort = True)\n",
    "count_classes = pd.value_counts(cc_training.select('default').toPandas()['default'], sort = True)\n",
    "count_classes.plot(kind = 'bar', rot=0)\n",
    "plt.title(\"Transaction class distribution\")\n",
    "plt.xticks(range(2), LABELS)\n",
    "plt.xlabel(\"Status\")\n",
    "plt.ylabel(\"Frequency\");"
   ]
  },
  {
   "cell_type": "code",
   "execution_count": 9,
   "metadata": {},
   "outputs": [],
   "source": [
    "(trainingData, validData) = cc_training.select('balance','sex','education','marriage','age','label').randomSplit([.7,.3])"
   ]
  },
  {
   "cell_type": "code",
   "execution_count": 10,
   "metadata": {},
   "outputs": [],
   "source": [
    "assembler =  VectorAssembler(inputCols=['balance','sex','education','marriage','age'], outputCol=\"assembled\")\n",
    "scaler = StandardScaler(inputCol=\"assembled\", outputCol=\"features\")\n",
    "pipeline = Pipeline(stages = [assembler, scaler])\n",
    "pipelineTraining = pipeline.fit(trainingData)\n",
    "cc_data_training = pipelineTraining.transform(trainingData)\n",
    "pipelineTest = pipeline.fit(validData)\n",
    "cc_data_test = pipelineTest.transform(validData)"
   ]
  },
  {
   "cell_type": "code",
   "execution_count": 21,
   "metadata": {},
   "outputs": [
    {
     "data": {
      "text/plain": [
       "array([[[ 0.07713293,  2.04703291,  1.26444402,  1.91475904,  4.4585972 ]],\n",
       "\n",
       "       [[ 0.07713293,  2.04703291,  1.26444402,  1.91475904,  5.43731365]],\n",
       "\n",
       "       [[ 0.07713293,  2.04703291,  1.26444402,  3.82951807,  2.39241801]],\n",
       "\n",
       "       ..., \n",
       "       [[ 5.78496992,  4.09406582,  3.79333205,  1.91475904,  4.34985092]],\n",
       "\n",
       "       [[ 5.86210285,  2.04703291,  3.79333205,  1.91475904,  5.87229875]],\n",
       "\n",
       "       [[ 6.01636872,  2.04703291,  1.26444402,  1.91475904,  5.21982111]]])"
      ]
     },
     "execution_count": 21,
     "metadata": {},
     "output_type": "execute_result"
    }
   ],
   "source": [
    "np.array(cc_data_training.select('features').collect())"
   ]
  },
  {
   "cell_type": "code",
   "execution_count": null,
   "metadata": {},
   "outputs": [],
   "source": [
    "bigDLModel = Sequential().add(Linear(n_input, n_hidden_1)).add(Linear(n_hidden_1, n_classes)).add(LogSoftMax())\n",
    "classnll_criterion = ClassNLLCriterion()\n",
    "dlClassifier = DLClassifier(model=bigDLModel, criterion=classnll_criterion, feature_size=[n_input])\n",
    "dlClassifier.setLabelCol(\"default\").setMaxEpoch(training_epochs).setBatchSize(batch_size)\n",
    "model = dlClassifier.fit(cc_data_training)\n",
    "print(\"\\ninitial model training finished.\")"
   ]
  },
  {
   "cell_type": "code",
   "execution_count": null,
   "metadata": {},
   "outputs": [],
   "source": [
    "from pyspark.sql import DataFrame, SQLContext\n",
    "predictionDF = DataFrame(model.transform(cc_data_test), SQLContext(sc))\n",
    "predictionDF"
   ]
  },
  {
   "cell_type": "code",
   "execution_count": null,
   "metadata": {
    "scrolled": true
   },
   "outputs": [],
   "source": [
    "predictionDF.cache()\n",
    "evaluator = BinaryClassificationEvaluator(rawPredictionCol=\"prediction\")\n",
    "auPRC = evaluator.evaluate(predictionDF)\n",
    "print(\"\\nArea under precision-recall curve: = \" + str(auPRC))\n",
    "    \n",
    "recall = MulticlassClassificationEvaluator(metricName=\"weightedRecall\").evaluate(predictionDF)\n",
    "print(\"\\nrecall = \" + str(recall))\n",
    "\n",
    "precision = MulticlassClassificationEvaluator(metricName=\"weightedPrecision\").evaluate(predictionDF)\n",
    "print(\"\\nPrecision = \" + str(precision))\n",
    "predictionDF.unpersist()"
   ]
  },
  {
   "cell_type": "code",
   "execution_count": null,
   "metadata": {},
   "outputs": [],
   "source": [
    "y_pred = np.array(predictionDF.select('prediction').collect())\n",
    "y_true = np.array(predictionDF.select('label').collect())"
   ]
  },
  {
   "cell_type": "code",
   "execution_count": null,
   "metadata": {},
   "outputs": [],
   "source": [
    "acc = accuracy_score(y_true, y_pred)\n",
    "print(\"The prediction accuracy is %.2f%%\"%(acc*100))\n",
    "\n",
    "cm = confusion_matrix(y_true, y_pred)\n",
    "cm.shape\n",
    "df_cm = pd.DataFrame(cm)\n",
    "plt.figure(figsize = (10,8))\n",
    "sn.heatmap(df_cm, annot=True,fmt='d');"
   ]
  }
 ],
 "metadata": {
  "kernelspec": {
   "display_name": "Python 2",
   "language": "python",
   "name": "python2"
  },
  "language_info": {
   "codemirror_mode": {
    "name": "ipython",
    "version": 2
   },
   "file_extension": ".py",
   "mimetype": "text/x-python",
   "name": "python",
   "nbconvert_exporter": "python",
   "pygments_lexer": "ipython2",
   "version": "2.7.14"
  }
 },
 "nbformat": 4,
 "nbformat_minor": 2
}
