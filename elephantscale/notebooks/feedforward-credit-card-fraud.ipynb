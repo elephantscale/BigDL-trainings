{
 "cells": [
  {
   "cell_type": "markdown",
   "metadata": {},
   "source": [
    "# Feedforward Network with Credit Card Fraud\n",
    "\n",
    "Let us look at a BigDL example with Credit Card Fraud.  We will train a simple, feedforward neural network with the credit card dataset.\n",
    "\n",
    "Let's look briefly at the credit card dataset\n",
    "\n",
    "| Time\" | \"V1\"              | \"V2\"                | \"V3\"             | \"V4\"              | \"V5\"               | \"V6\"                | \"V7\"                | \"V8\"               | \"V9\"               | \"V10\"              | \"V11\"              | \"V12\"              | \"V13\"              | \"V14\"              | \"V15\"             | \"V16\"              | \"V17\"              | \"V18\"              | \"V19\"              | \"V20\"               | \"V21\"              | \"V22\"              | \"V23\"              | \"V24\"              | \"V25\"              | \"V26\"              | \"V27\"                | \"V28\"               | \"Amount\" | \"Class\" | \n",
    "|-------|-------------------|---------------------|------------------|-------------------|--------------------|---------------------|---------------------|--------------------|--------------------|--------------------|--------------------|--------------------|--------------------|--------------------|-------------------|--------------------|--------------------|--------------------|--------------------|---------------------|--------------------|--------------------|--------------------|--------------------|--------------------|--------------------|----------------------|---------------------|----------|---------| \n",
    "| 0     | -1.3598071336738  | -0.0727811733098497 | 2.53634673796914 | 1.37815522427443  | -0.338320769942518 | 0.462387777762292   | 0.239598554061257   | 0.0986979012610507 | 0.363786969611213  | 0.0907941719789316 | -0.551599533260813 | -0.617800855762348 | -0.991389847235408 | -0.311169353699879 | 1.46817697209427  | -0.470400525259478 | 0.207971241929242  | 0.0257905801985591 | 0.403992960255733  | 0.251412098239705   | -0.018306777944153 | 0.277837575558899  | -0.110473910188767 | 0.0669280749146731 | 0.128539358273528  | -0.189114843888824 | 0.133558376740387    | -0.0210530534538215 | 149.62   | 1       | \n",
    "| 0     | 1.19185711131486  | 0.26615071205963    | 0.16648011335321 | 0.448154078460911 | 0.0600176492822243 | -0.0823608088155687 | -0.0788029833323113 | 0.0851016549148104 | -0.255425128109186 | -0.166974414004614 | 1.61272666105479   | 1.06523531137287   | 0.48909501589608   | -0.143772296441519 | 0.635558093258208 | 0.463917041022171  | -0.114804663102346 | -0.183361270123994 | -0.145783041325259 | -0.0690831352230203 | -0.225775248033138 | -0.638671952771851 | 0.101288021253234  | -0.339846475529127 | 0.167170404418143  | 0.125894532368176  | -0.00898309914322813 | 0.0147241691924927  | 2.69     | 1       | \n",
    "| 1     | -1.35835406159823 | -1.34016307473609   | 1.77320934263119 | 0.379779593034328 | -0.503198133318193 | 1.80049938079263    | 0.791460956450422   | 0.247675786588991  | -1.51465432260583  | 0.207642865216696  | 0.624501459424895  | 0.066083685268831  | 0.717292731410831  | -0.165945922763554 | 2.34586494901581  | -2.89008319444231  | 1.10996937869599   | -0.121359313195888 | -2.26185709530414  | 0.524979725224404   | 0.247998153469754  | 0.771679401917229  | 0.909412262347719  | -0.689280956490685 | -0.327641833735251 | -0.139096571514147 | -0.0553527940384261  | -0.0597518405929204 | 378.66   | 1       | \n",
    "\n",
    "\n",
    "Notice the PCA dimensions here (Principal Component Analysis). PCA here is done for several reasons: as a dimensionality reduction technique, but also as a way to anonymize very sensitive financial data.\n",
    "\n",
    "Of course, it would be better if we could see the actual dimensions, but on the ohter hand, the PCA dimensions should contain most of the \"signal\" of the original data.\n"
   ]
  },
  {
   "cell_type": "code",
   "execution_count": 1,
   "metadata": {},
   "outputs": [],
   "source": [
    "%matplotlib inline\n",
    "import pandas as pd\n",
    "import datetime as dt\n",
    "import matplotlib.pyplot as plt\n",
    "import numpy as np\n",
    "from sklearn.metrics import confusion_matrix\n",
    "from sklearn.metrics import accuracy_score\n",
    "import seaborn as sn\n",
    "import pandas as pd\n",
    "import random as rd\n",
    "import datetime as dt\n",
    "\n",
    "\n",
    "from bigdl.dataset.transformer import *\n",
    "from bigdl.dataset.base import *\n",
    "from bigdl.nn.layer import *\n",
    "from bigdl.nn.criterion import *\n",
    "from bigdl.optim.optimizer import *\n",
    "from bigdl.util.common import *\n",
    "from utils import *\n",
    "\n",
    "from pyspark.sql.functions import col\n",
    "\n",
    "\n",
    "init_engine()"
   ]
  },
  {
   "cell_type": "code",
   "execution_count": null,
   "metadata": {},
   "outputs": [],
   "source": [
    "## Parameteters\n",
    "\n",
    "We are using a very large batch size here because the dataset is very lopsided."
   ]
  },
  {
   "cell_type": "code",
   "execution_count": 2,
   "metadata": {},
   "outputs": [],
   "source": [
    "learning_rate = 0.1\n",
    "training_epochs = 100\n",
    "batch_size = 10000\n",
    "display_step = 1\n",
    "\n",
    "# Network Parameters\n",
    "n_input = 29\n",
    "n_classes = 2\n",
    "n_hidden_1 = 10 # 1st layer number of features\n",
    "\n",
    "LABELS = [\"Normal\", \"Fraud\"]\n",
    "\n",
    "cols = [\"V\" + str(x) for x in list(range(1,28))] + [\"Amount\"]\n",
    "\n"
   ]
  },
  {
   "cell_type": "markdown",
   "metadata": {},
   "source": [
    "### Sizing the Hidden Layer(s)\n",
    "\n",
    "Sizing hidden layers can be a challenge.  The best way to figure this out is to do it\n",
    "empirically.  However, we may need a \"rule of thumb\" to start.  Here is a good rule of thumb:\n",
    "\n",
    "First Hidden Layer:\n",
    "```\n",
    "n_hidden_1 = np.sqrt(np.sqrt((n_classes + 2) * n_input) + 2 * np.sqrt(n_input /(n_classes+2.)))\n",
    "```\n",
    "\n",
    "Second Hidden Layer:  (if needed)\n",
    "```\n",
    "n_hidden_2 = n_classes * np.sqrt(n_input / (n_classes + 2.))\n",
    "```\n",
    "\n",
    "This dataset may not need two hidden layers. We'll start with one and see how that goes."
   ]
  },
  {
   "cell_type": "code",
   "execution_count": 3,
   "metadata": {},
   "outputs": [
    {
     "name": "stdout",
     "output_type": "stream",
     "text": [
      "Hidden layer 1 (Guess) : 4.0193898071\n",
      "Hidden layer 2 (Guess) : 5.38516480713\n"
     ]
    }
   ],
   "source": [
    "# Number of hidden layers\n",
    "\n",
    "n_hidden_guess = np.sqrt(np.sqrt((n_classes + 2) * n_input) + 2 * np.sqrt(n_input /(n_classes+2.)))\n",
    "print(\"Hidden layer 1 (Guess) : \" + str(n_hidden_guess))\n",
    "\n",
    "n_hidden_guess_2 = n_classes * np.sqrt(n_input / (n_classes + 2.))\n",
    "print(\"Hidden layer 2 (Guess) : \" + str(n_hidden_guess_2))\n"
   ]
  },
  {
   "cell_type": "code",
   "execution_count": 2,
   "metadata": {},
   "outputs": [],
   "source": [
    "cc_training = spark.read.csv(\"../data/creditcardfraud/creditcard.csv\", header=True, inferSchema=\"true\", mode=\"DROPMALFORMED\")"
   ]
  },
  {
   "cell_type": "code",
   "execution_count": 7,
   "metadata": {
    "scrolled": true
   },
   "outputs": [
    {
     "name": "stdout",
     "output_type": "stream",
     "text": [
      "+-------+-----------------+--------------------+--------------------+-----------------+-------------------+\n",
      "|summary|             Time|                  V1|                  V2|           Amount|              Class|\n",
      "+-------+-----------------+--------------------+--------------------+-----------------+-------------------+\n",
      "|  count|           284807|              284807|              284807|           284807|             284807|\n",
      "|   mean|       94813.8596|2.260907382386083...|6.067406817137794...|88.34961925095207|   1.00172748563062|\n",
      "| stddev|47488.14595456619|  1.9586958038574867|  1.6513085794769937|250.1201092401879|0.04152718963546483|\n",
      "|    min|                0|    -56.407509631329|   -72.7157275629303|              0.0|                  1|\n",
      "|    max|           172792|    2.45492999121121|    22.0577289904909|         25691.16|                  2|\n",
      "+-------+-----------------+--------------------+--------------------+-----------------+-------------------+\n",
      "\n"
     ]
    }
   ],
   "source": [
    "cc_training.select('Time', 'V1', 'V2', 'Amount', 'Class').describe().show()"
   ]
  },
  {
   "cell_type": "code",
   "execution_count": 3,
   "metadata": {},
   "outputs": [],
   "source": [
    "cc_training = cc_training.select([col(c).cast(\"double\") for c in cc_training.columns])\n",
    "\n"
   ]
  },
  {
   "cell_type": "code",
   "execution_count": 4,
   "metadata": {
    "scrolled": true
   },
   "outputs": [
    {
     "name": "stdout",
     "output_type": "stream",
     "text": [
      "+----+------------------+-------------------+------------------+-------------------+-------------------+-------------------+--------------------+-------------------+------------------+-------------------+------------------+------------------+-------------------+-------------------+-------------------+-------------------+--------------------+-------------------+-------------------+-------------------+--------------------+-------------------+-------------------+-------------------+-------------------+-------------------+--------------------+-------------------+------+-----+\n",
      "|Time|                V1|                 V2|                V3|                 V4|                 V5|                 V6|                  V7|                 V8|                V9|                V10|               V11|               V12|                V13|                V14|                V15|                V16|                 V17|                V18|                V19|                V20|                 V21|                V22|                V23|                V24|                V25|                V26|                 V27|                V28|Amount|Class|\n",
      "+----+------------------+-------------------+------------------+-------------------+-------------------+-------------------+--------------------+-------------------+------------------+-------------------+------------------+------------------+-------------------+-------------------+-------------------+-------------------+--------------------+-------------------+-------------------+-------------------+--------------------+-------------------+-------------------+-------------------+-------------------+-------------------+--------------------+-------------------+------+-----+\n",
      "| 0.0|  -1.3598071336738|-0.0727811733098497|  2.53634673796914|   1.37815522427443| -0.338320769942518|  0.462387777762292|   0.239598554061257| 0.0986979012610507| 0.363786969611213| 0.0907941719789316|-0.551599533260813|-0.617800855762348| -0.991389847235408| -0.311169353699879|   1.46817697209427| -0.470400525259478|   0.207971241929242| 0.0257905801985591|  0.403992960255733|  0.251412098239705|  -0.018306777944153|  0.277837575558899| -0.110473910188767| 0.0669280749146731|  0.128539358273528| -0.189114843888824|   0.133558376740387|-0.0210530534538215|149.62|  1.0|\n",
      "| 0.0|  1.19185711131486|   0.26615071205963|  0.16648011335321|  0.448154078460911| 0.0600176492822243|-0.0823608088155687| -0.0788029833323113| 0.0851016549148104|-0.255425128109186| -0.166974414004614|  1.61272666105479|  1.06523531137287|   0.48909501589608| -0.143772296441519|  0.635558093258208|  0.463917041022171|  -0.114804663102346| -0.183361270123994| -0.145783041325259|-0.0690831352230203|  -0.225775248033138| -0.638671952771851|  0.101288021253234| -0.339846475529127|  0.167170404418143|  0.125894532368176|-0.00898309914322813| 0.0147241691924927|  2.69|  1.0|\n",
      "| 1.0| -1.35835406159823|  -1.34016307473609|  1.77320934263119|  0.379779593034328| -0.503198133318193|   1.80049938079263|   0.791460956450422|  0.247675786588991| -1.51465432260583|  0.207642865216696| 0.624501459424895| 0.066083685268831|  0.717292731410831| -0.165945922763554|   2.34586494901581|  -2.89008319444231|    1.10996937869599| -0.121359313195888|  -2.26185709530414|  0.524979725224404|   0.247998153469754|  0.771679401917229|  0.909412262347719| -0.689280956490685| -0.327641833735251| -0.139096571514147| -0.0553527940384261|-0.0597518405929204|378.66|  1.0|\n",
      "| 1.0|-0.966271711572087| -0.185226008082898|  1.79299333957872| -0.863291275036453|-0.0103088796030823|   1.24720316752486|    0.23760893977178|  0.377435874652262| -1.38702406270197|-0.0549519224713749|-0.226487263835401| 0.178228225877303|  0.507756869957169|  -0.28792374549456| -0.631418117709045|   -1.0596472454325|  -0.684092786345479|   1.96577500349538|   -1.2326219700892| -0.208037781160366|  -0.108300452035545|0.00527359678253453| -0.190320518742841|  -1.17557533186321|  0.647376034602038| -0.221928844458407|  0.0627228487293033| 0.0614576285006353| 123.5|  1.0|\n",
      "| 2.0| -1.15823309349523|  0.877736754848451|    1.548717846511|  0.403033933955121| -0.407193377311653| 0.0959214624684256|   0.592940745385545| -0.270532677192282| 0.817739308235294|  0.753074431976354|-0.822842877946363|  0.53819555014995|    1.3458515932154|  -1.11966983471731|  0.175121130008994| -0.451449182813529|  -0.237033239362776|-0.0381947870352842|  0.803486924960175|  0.408542360392758|-0.00943069713232919|   0.79827849458971| -0.137458079619063|  0.141266983824769| -0.206009587619756|  0.502292224181569|   0.219422229513348|  0.215153147499206| 69.99|  1.0|\n",
      "| 2.0|-0.425965884412454|  0.960523044882985|  1.14110934232219| -0.168252079760302|   0.42098688077219|-0.0297275516639742|   0.476200948720027|  0.260314333074874| -0.56867137571251| -0.371407196834471|  1.34126198001957| 0.359893837038039| -0.358090652573631| -0.137133700217612|  0.517616806555742|  0.401725895589603| -0.0581328233640131| 0.0686531494425432|-0.0331937877876282| 0.0849676720682049|  -0.208253514656728| -0.559824796253248|-0.0263976679795373| -0.371426583174346| -0.232793816737034|  0.105914779097957|   0.253844224739337| 0.0810802569229443|  3.67|  1.0|\n",
      "| 4.0|  1.22965763450793|  0.141003507049326|0.0453707735899449|   1.20261273673594|  0.191880988597645|  0.272708122899098|-0.00515900288250983| 0.0812129398830894| 0.464959994783886|-0.0992543211289237| -1.41690724314928|-0.153825826253651|  -0.75106271556262|   0.16737196252175| 0.0501435942254188| -0.443586797916727| 0.00282051247234708|  -0.61198733994012|-0.0455750446637976|  -0.21963255278686|  -0.167716265815783| -0.270709726172363| -0.154103786809305| -0.780055415004671|   0.75013693580659| -0.257236845917139|  0.0345074297438413|0.00516776890624916|  4.99|  1.0|\n",
      "| 7.0|-0.644269442348146|   1.41796354547385|   1.0743803763556| -0.492199018495015|  0.948934094764157|  0.428118462833089|    1.12063135838353|  -3.80786423873589| 0.615374730667027|   1.24937617815176|-0.619467796121913| 0.291474353088705|   1.75796421396042|  -1.32386521970526|  0.686132504394383|-0.0761269994382006|    -1.2221273453247| -0.358221569869078|  0.324504731321494| -0.156741852488285|    1.94346533978412|  -1.01545470979971|  0.057503529867291| -0.649709005559993| -0.415266566234811|-0.0516342969262494|   -1.20692108094258|  -1.08533918832377|  40.8|  1.0|\n",
      "| 7.0| -0.89428608220282|  0.286157196276544|-0.113192212729871| -0.271526130088604|    2.6695986595986|   3.72181806112751|   0.370145127676916|  0.851084443200905|-0.392047586798604| -0.410430432848439|-0.705116586646536|-0.110452261733098| -0.286253632470583| 0.0743553603016731| -0.328783050303565| -0.210077268148783|  -0.499767968800267|  0.118764861004217|   0.57032816746536| 0.0527356691149697| -0.0734251001059225| -0.268091632235551| -0.204232669947878|    1.0115918018785|  0.373204680146282| -0.384157307702294|  0.0117473564581996|   0.14240432992147|  93.2|  1.0|\n",
      "| 9.0| -0.33826175242575|   1.11959337641566|  1.04436655157316| -0.222187276738296|   0.49936080649727|  -0.24676110061991|   0.651583206489972| 0.0695385865186387|-0.736727316364109| -0.366845639206541|  1.01761446783262| 0.836389570307029|   1.00684351373408| -0.443522816876142|  0.150219101422635|  0.739452777052119|  -0.540979921943059|   0.47667726004282|  0.451772964394125|  0.203711454727929|  -0.246913936910008| -0.633752642406113|  -0.12079408408185| -0.385049925313426|-0.0697330460416923| 0.0941988339514961|   0.246219304619926| 0.0830756493473326|  3.68|  1.0|\n",
      "|10.0|  1.44904378114715|  -1.17633882535966| 0.913859832832795|  -1.37566665499943|  -1.97138316545323|  -0.62915213889734|    -1.4232356010359| 0.0484558879088564| -1.72040839292037|   1.62665905834133|   1.1996439495421|-0.671439778462005| -0.513947152539479|-0.0950450453999549|  0.230930409124119| 0.0319674667862076|   0.253414715863197|  0.854343814324194| -0.221365413645481| -0.387226474431156|-0.00930189652490052|  0.313894410791098| 0.0277401580170247|  0.500512287104917|   0.25136735874921| -0.129477953726618|  0.0428498709381461| 0.0162532619375515|   7.8|  1.0|\n",
      "|10.0|  0.38497821518095|  0.616109459176472|-0.874299702595052|-0.0940186259679115|   2.92458437838817|   3.31702716826156|   0.470454671805879|   0.53824722837695|-0.558894612428441|   0.30975539423728|-0.259115563735702|-0.326143233995877|-0.0900467227020648|  0.362832368569793|  0.928903660629178| -0.129486811402759|  -0.809978925963589|  0.359985390219981|   0.70766382644648|   0.12599157561542|   0.049923685888971|  0.238421512225103|0.00912986861262866|  0.996710209581086| -0.767314827174801| -0.492208295340017|   0.042472441919027|-0.0543373883732122|  9.99|  1.0|\n",
      "|10.0|    1.249998742053|  -1.22163680921816| 0.383930151282291|  -1.23489868766892|  -1.48541947377961| -0.753230164566149|  -0.689404975426345| -0.227487227519552| -2.09401057344842|   1.32372927445937| 0.227666231237246|-0.242681998944186|   1.20541680770748| -0.317630527025074|  0.725674990179153| -0.815612186027305|   0.873936447614439| -0.847788598847099| -0.683192626267037| -0.102755941505071|  -0.231809239223849| -0.483285330117712| 0.0846676908596583|  0.392830885335013|  0.161134553588505| -0.354990039673962|  0.0264155490776107| 0.0424220887282304| 121.5|  1.0|\n",
      "|11.0|   1.0693735878819|  0.287722129331455| 0.828612726634281|   2.71252042961718| -0.178398016248009|  0.337543730282968| -0.0967168617395962|  0.115981735546597|-0.221082566236194|  0.460230444301678|-0.773656930526689|  0.32338724546722|-0.0110758870883779| -0.178485175177916|  -0.65556427824926|  -0.19992517131173|     0.1240054151819| -0.980496201537345| -0.982916082135047| -0.153197231044512| -0.0368755317335273| 0.0744124028162195|-0.0714074332998586|  0.104743752596029|  0.548264725394119|  0.104094153162781|  0.0214910583643189|  0.021293311477486|  27.5|  1.0|\n",
      "|12.0|  -2.7918547659339| -0.327770756658658|  1.64175016056605|   1.76747274389883| -0.136588446465306|   0.80759646826532|  -0.422911389711497|  -1.90710747624096| 0.755712908314791|    1.1510869876677| 0.844555470974377|   0.7929439518176|  0.370448092803246| -0.734975105820311|  0.406795710431001| -0.303057623825763|  -0.155868714793874|  0.778265457041536|   2.22186801373788|  -1.58212204356551|    1.15166304848789|  0.222181966098225|   1.02058620426601| 0.0283166513238872| -0.232746324289105|  -0.23555721754117|   -0.16477751177654|-0.0301536365592253|  58.8|  1.0|\n",
      "|12.0|-0.752417042956605|  0.345485415344747|  2.05732291276727|  -1.46864329840046|   -1.1583936804082|-0.0778498291166733|  -0.608581418236123|0.00360348436201849|-0.436166983515744|  0.747730827192802|-0.793980602837221|-0.770406728847129|   1.04762699748088|  -1.06660368148653|   1.10695345662141|   1.66011355713381|  -0.279265373246772| -0.419994141181313|  0.432535348618175|  0.263450864446125|   0.499624954671111|   1.35365048557231| -0.256573280448308|-0.0650837078816517|-0.0391243535426488|-0.0870864732146962|  -0.180997500092721|  0.129394059390202| 15.99|  1.0|\n",
      "|12.0|  1.10321543528383|-0.0402962145973447|   1.2673320885949|   1.28909146962552| -0.735997163604068|  0.288069162976262|  -0.586056786337461|  0.189379713679593| 0.782332891785191| -0.267975066537173|-0.450311279515466| 0.936707714991982|  0.708380406186981| -0.468647287707221|  0.354574063407955| -0.246634655717582|-0.00921237772707382| -0.595912405700819|  -0.57568162226261| -0.113910176982092| -0.0246120063374677|  0.196001952806192| 0.0138016541409422|  0.103758331023198|  0.364297540595235| -0.382260574113217|   0.092809187460487| 0.0370505169810008| 12.99|  1.0|\n",
      "|13.0|-0.436905071360625|  0.918966212909322|  0.92459077438817| -0.727219053596792|  0.915678718106307| -0.127867352079254|   0.707641607333935| 0.0879623554672504| -0.66527135413364| -0.737979823596458|  0.32409781346169| 0.277192107214981|  0.252624256310781| -0.291896460370468| -0.184520169327133|   1.14317370716197|   -0.92870926272403|  0.680469592634687| 0.0254364616880793|-0.0470212823165035|  -0.194795823794671| -0.672637997017793| -0.156857514491897| -0.888386320943716| -0.342413218776576| -0.049026728633951|  0.0796923991551505|  0.131023789452311|  0.89|  1.0|\n",
      "|14.0| -5.40125766315825|  -5.45014783420644|  1.18630463143652|   1.73623880012095|   3.04910587764025|  -1.76340557365201|   -1.55973769907953|  0.160841747266769|  1.23308974041888|  0.345172827050629| 0.917229867699146| 0.970116716069048| -0.266567764915222| -0.479129929276704| -0.526608502569153|   0.47200411177674|  -0.725480944982201|  0.075081351540202| -0.406866573198217|  -2.19684802485647|  -0.503600328973703|  0.984459785590244|   2.45858857639219| 0.0421188969891572| -0.481630823956716| -0.621272013713977|   0.392053289557744|  0.949594245504846|  46.8|  1.0|\n",
      "|15.0|   1.4929359769862|  -1.02934573189487|  0.45479473374366|  -1.43802587991702|  -1.55543410136344| -0.720961147043557|   -1.08066413038614|-0.0531271179483221|  -1.9786815953872|   1.63807603690446|  1.07754241162743| -0.63204651464934|  -0.41695716661602| 0.0520105153724404|-0.0429789228232019| -0.166432496451972|   0.304241418614353|  0.554432499062278| 0.0542295152184719| -0.387910172646258|  -0.177649846438814| -0.175073809074822| 0.0400022190621329|  0.295813862676508|   0.33293059939425| -0.220384850672322|  0.0222984359135846|0.00760225559997897|   5.0|  1.0|\n",
      "+----+------------------+-------------------+------------------+-------------------+-------------------+-------------------+--------------------+-------------------+------------------+-------------------+------------------+------------------+-------------------+-------------------+-------------------+-------------------+--------------------+-------------------+-------------------+-------------------+--------------------+-------------------+-------------------+-------------------+-------------------+-------------------+--------------------+-------------------+------+-----+\n",
      "only showing top 20 rows\n",
      "\n"
     ]
    }
   ],
   "source": [
    "cc_training.show()"
   ]
  },
  {
   "cell_type": "markdown",
   "metadata": {},
   "source": [
    "## Lopsided Data distribution\n",
    "\n",
    "Let us look at the very lopsided data distribution."
   ]
  },
  {
   "cell_type": "code",
   "execution_count": 10,
   "metadata": {
    "scrolled": false
   },
   "outputs": [
    {
     "data": {
      "image/png": "[encoded data removed]",
      "text/plain": [
       "<matplotlib.figure.Figure at 0x7efc4f98c7d0>"
      ]
     },
     "metadata": {},
     "output_type": "display_data"
    }
   ],
   "source": [
    "#count_classes = pd.value_counts(df['Class'], sort = True)\n",
    "count_classes = pd.value_counts(cc_training.select('Class').toPandas()['Class'], sort = True)\n",
    "count_classes.plot(kind = 'bar', rot=0)\n",
    "plt.title(\"Transaction class distribution\")\n",
    "plt.xticks(range(2), LABELS)\n",
    "plt.xlabel(\"Class\")\n",
    "plt.ylabel(\"Frequency\");"
   ]
  },
  {
   "cell_type": "markdown",
   "metadata": {},
   "source": [
    "### Splitting the data\n",
    "\n",
    "Instead of using a random split, we are going to segment the dataset based on time. This is becaause a model will be trained on historical data and deployed on new data for prediction, so it makes sense for validation data to work much the same way."
   ]
  },
  {
   "cell_type": "code",
   "execution_count": 6,
   "metadata": {},
   "outputs": [],
   "source": [
    "# get the time to split the data.\n",
    "splitTime = cc_training.stat.approxQuantile(\"Time\", [0.7], 0.001)[0]\n",
    "\n",
    "trainingData =cc_training.filter(\"Time < \" + str(splitTime))\n",
    "validData = cc_training.filter(\"Time >= \" + str(splitTime))"
   ]
  },
  {
   "cell_type": "markdown",
   "metadata": {},
   "source": [
    "### Converting to RDD of Sample\n",
    "\n",
    "BigDL requires all input data to be in its native Sample format (for the RDD API).  The Pipeline api, shown in feedforward-iris-pipeline -- allows data to be in Spark Dataframes.\n",
    "\n",
    "To convert the data into type Sample, we will use a helper method here to convert. The sample function requires two numpy arrays:\n",
    "\n",
    "1. Feature array (of all the features in double type)\n",
    "2. Label array: the label value (usually just a single number in the array).\n",
    "\n",
    "Then we convert these to RDDs of type Sample."
   ]
  },
  {
   "cell_type": "code",
   "execution_count": 7,
   "metadata": {},
   "outputs": [
    {
     "name": "stdout",
     "output_type": "stream",
     "text": [
      "Training Count:199152\n",
      "Test Count:85655\n"
     ]
    }
   ],
   "source": [
    "#convert ndarray data into RDD[Sample]\n",
    "\n",
    "# time,V1,V2,V3,V4,V5,V6,V7,V8,V9,V10,V11,V12,V13,V14,V15,V16,V17,V18,V19,V20,V21,V22,V23,V24,V25,V26,V27,V28,amount,prediction\n",
    "def array2rdd(ds):\n",
    "    #build Sample from ndarrays\n",
    "    def build_sample(time,V1,V2,V3,V4,V5,V6,V7,V8,V9,V10,V11,V12,V13,V14,V15,V16,V17,V18,V19,V20,V21,V22,V23,V24,V25,V26,V27,V28,amount,prediction):\n",
    "        feature = np.array([V1,V2,V3,V4,V5,V6,V7,V8,V9,V10,V11,V12,V13,V14,V15,V16,V17,V18,V19,V20,V21,V22,V23,V24,V25,V26,V27,V28,amount]).flatten()\n",
    "        label = np.array(prediction)\n",
    "        return Sample.from_ndarray(feature, label)\n",
    "    rdd = ds.map(lambda (time,V1,V2,V3,V4,V5,V6,V7,V8,V9,V10,V11,V12,V13,V14,V15,V16,V17,V18,V19,V20,V21,V22,V23,V24,V25,V26,V27,V28,amount,prediction): build_sample(time,V1,V2,V3,V4,V5,V6,V7,V8,V9,V10,V11,V12,V13,V14,V15,V16,V17,V18,V19,V20,V21,V22,V23,V24,V25,V26,V27,V28,amount,prediction))\n",
    "    return rdd\n",
    "\n",
    "cc_rdd_train = array2rdd(trainingData.rdd.map(list))\n",
    "cc_rdd_train.cache()\n",
    "print(\"Training Count:\" + str(cc_rdd_train.count()))\n",
    "\n",
    "\n",
    "\n",
    "cc_rdd_test = array2rdd(validData.rdd.map(list))\n",
    "cc_rdd_test.cache()\n",
    "print(\"Test Count:\" + str(cc_rdd_test.count()))\n"
   ]
  },
  {
   "cell_type": "markdown",
   "metadata": {},
   "source": [
    "## Setting up our network\n",
    "\n",
    "Here we are going to actually set up our network.  It will be single hidden layer network, with input layer (based on our 4-inputs), and output layer (softmax with 3 classes).  \n",
    "\n",
    "The hidden layer has been set up to 10, and we will use ReLU activation for that hidden layer. ReLU is currently preferred as a activation layer for these types of networks as it is linear in the postive direction, avoiding the vanishing gradient problem.\n",
    "\n"
   ]
  },
  {
   "cell_type": "code",
   "execution_count": 13,
   "metadata": {
    "scrolled": true
   },
   "outputs": [
    {
     "name": "stdout",
     "output_type": "stream",
     "text": [
      "creating: createSequential\n",
      "creating: createLinear\n",
      "creating: createReLU\n",
      "creating: createLinear\n",
      "creating: createLogSoftMax\n"
     ]
    }
   ],
   "source": [
    "# Create model\n",
    "\n",
    "def multilayer_perceptron(n_hidden_1, n_input, n_classes):\n",
    "    # Initialize a sequential container\n",
    "    model = Sequential()\n",
    "    # Hidden layer with ReLu activation\n",
    "    model.add(Linear(n_input, n_hidden_1).set_name('mlp_fc1'))\n",
    "    model.add(ReLU())\n",
    "    # output layer\n",
    "    model.add(Linear(n_hidden_1, n_classes).set_name('mlp_fc3'))\n",
    "    model.add(LogSoftMax())\n",
    "    return model\n",
    "\n",
    "model = multilayer_perceptron(n_hidden_1, n_input, n_classes)"
   ]
  },
  {
   "cell_type": "markdown",
   "metadata": {},
   "source": [
    "### Training the Model\n",
    "\n",
    "Now we need to set up our training. We are going to use the following:\n",
    "\n",
    "* Loss Function: ClassNLLCriterion\n",
    "* Optimization: AdaGrad \n",
    "\n",
    "For validation, we will validating against top1Accuracy for every epoch."
   ]
  },
  {
   "cell_type": "code",
   "execution_count": 14,
   "metadata": {
    "scrolled": true
   },
   "outputs": [
    {
     "name": "stdout",
     "output_type": "stream",
     "text": [
      "creating: createClassNLLCriterion\n",
      "creating: createDefault\n",
      "creating: createSGD\n",
      "creating: createMaxEpoch\n",
      "creating: createOptimizer\n",
      "creating: createEveryEpoch\n",
      "creating: createTop1Accuracy\n",
      "creating: createTrainSummary\n",
      "creating: createSeveralIteration\n",
      "creating: createValidationSummary\n",
      "('saving logs to ', 'creditcardfraud-20171115-132426')\n"
     ]
    }
   ],
   "source": [
    "# Create an Optimizer\n",
    "optimizer = Optimizer(\n",
    "    model=model,\n",
    "    training_rdd=cc_rdd_train,\n",
    "    criterion=ClassNLLCriterion(),\n",
    "    optim_method=SGD(learningrate=learning_rate),\n",
    "    end_trigger=MaxEpoch(training_epochs),\n",
    "    batch_size=batch_size)\n",
    "\n",
    "# Set the validation logic\n",
    "optimizer.set_validation(\n",
    "    batch_size=batch_size,\n",
    "    val_rdd=cc_rdd_test,\n",
    "    trigger=EveryEpoch(),\n",
    "    val_method=[Top1Accuracy()]\n",
    ")\n",
    "\n",
    "app_name='creditcardfraud-'+dt.datetime.now().strftime(\"%Y%m%d-%H%M%S\")\n",
    "train_summary = TrainSummary(log_dir='/tmp/bigdl_summaries',\n",
    "                                     app_name=app_name)\n",
    "train_summary.set_summary_trigger(\"Parameters\", SeveralIteration(50))\n",
    "val_summary = ValidationSummary(log_dir='/tmp/bigdl_summaries',\n",
    "                                        app_name=app_name)\n",
    "optimizer.set_train_summary(train_summary)\n",
    "optimizer.set_val_summary(val_summary)\n",
    "print(\"saving logs to \",app_name)"
   ]
  },
  {
   "cell_type": "code",
   "execution_count": 15,
   "metadata": {},
   "outputs": [
    {
     "name": "stdout",
     "output_type": "stream",
     "text": [
      "Optimization Done.\n",
      "CPU times: user 60 ms, sys: 10 ms, total: 70 ms\n",
      "Wall time: 3min 1s\n"
     ]
    }
   ],
   "source": [
    "%%time\n",
    "# Boot training process\n",
    "trained_model = optimizer.optimize()\n",
    "print(\"Optimization Done.\")"
   ]
  },
  {
   "cell_type": "code",
   "execution_count": 16,
   "metadata": {
    "scrolled": false
   },
   "outputs": [
    {
     "data": {
      "image/png": "[encoded data removed]",
      "text/plain": [
       "<matplotlib.figure.Figure at 0x7efc4f992250>"
      ]
     },
     "metadata": {},
     "output_type": "display_data"
    }
   ],
   "source": [
    "\n",
    "loss = np.array(train_summary.read_scalar(\"Loss\"))\n",
    "top1 = np.array(val_summary.read_scalar(\"Top1Accuracy\"))\n",
    "\n",
    "plt.figure(figsize = (12,12))\n",
    "plt.subplot(2,1,1)\n",
    "plt.plot(loss[:,0],loss[:,1],label='loss')\n",
    "plt.xlim(0,loss.shape[0]+10)\n",
    "plt.grid(True)\n",
    "plt.title(\"loss\")\n",
    "plt.subplot(2,1,2)\n",
    "plt.plot(top1[:,0],top1[:,1],label='top1')\n",
    "plt.xlim(0,loss.shape[0])\n",
    "plt.title(\"top1 accuracy\")\n",
    "plt.grid(True)"
   ]
  },
  {
   "cell_type": "markdown",
   "metadata": {},
   "source": [
    "## See visualizations on tensorboard as well\n",
    "\n",
    "We can run tensorboard at the command prompt and see visualizations too -- much prettier ones in fact than is available here.\n",
    "\n",
    "To do, run at the command line:\n",
    "\n",
    "$ tensorboard --logdir=\"/tmp/bigdl_summaries\"\n",
    "\n",
    "And then, you can go to your browser:\n",
    "\n",
    "http://YOURHOSTNAME:6006"
   ]
  },
  {
   "cell_type": "markdown",
   "metadata": {},
   "source": [
    "## Show Confusion Matrix and Accuracy score on Validation Data\n",
    "\n",
    "Here, we are going to run predictions on our validation data to determine our accuracy on validation data and our confusion matrix.\n",
    "\n",
    "Nobody really cares what our error (loss) is on training data.  It's validation data that really matters.  So, calculating accuracy.\n",
    "\n"
   ]
  },
  {
   "cell_type": "code",
   "execution_count": 17,
   "metadata": {},
   "outputs": [],
   "source": [
    "predictions = trained_model.predict(cc_rdd_test).collect()\n",
    "\n",
    "def map_predict_label(l):\n",
    "    return np.array(l).argmax()\n",
    "def map_groundtruth_label(l):\n",
    "    return l.to_ndarray()[0] - 1\n",
    "\n",
    "y_pred = np.array([ map_predict_label(s) for s in predictions])\n",
    "\n",
    "y_true = np.array([map_groundtruth_label(s.label) for s in cc_rdd_test.collect()])"
   ]
  },
  {
   "cell_type": "code",
   "execution_count": 18,
   "metadata": {},
   "outputs": [
    {
     "name": "stdout",
     "output_type": "stream",
     "text": [
      "The prediction accuracy is 99.90%\n"
     ]
    },
    {
     "data": {
      "image/png": "[encoded data removed]",
      "text/plain": [
       "<matplotlib.figure.Figure at 0x7efc4cf58750>"
      ]
     },
     "metadata": {},
     "output_type": "display_data"
    }
   ],
   "source": [
    "acc = accuracy_score(y_true, y_pred)\n",
    "print(\"The prediction accuracy is %.2f%%\"%(acc*100))\n",
    "\n",
    "cm = confusion_matrix(y_true, y_pred)\n",
    "cm.shape\n",
    "df_cm = pd.DataFrame(cm)\n",
    "plt.figure(figsize = (10,8))\n",
    "#sn.heatmap(df_cm, annot=True,fmt='d');"
   ]
  }
 ],
 "metadata": {
  "kernelspec": {
   "display_name": "Python 2",
   "language": "python",
   "name": "python2"
  },
  "language_info": {
   "codemirror_mode": {
    "name": "ipython",
    "version": 2
   },
   "file_extension": ".py",
   "mimetype": "text/x-python",
   "name": "python",
   "nbconvert_exporter": "python",
   "pygments_lexer": "ipython2",
   "version": "2.7.14"
  }
 },
 "nbformat": 4,
 "nbformat_minor": 2
}
